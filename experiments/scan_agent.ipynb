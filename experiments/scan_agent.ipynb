{
 "cells": [
  {
   "cell_type": "code",
   "execution_count": 1,
   "metadata": {},
   "outputs": [],
   "source": [
    "from dotenv import load_dotenv\n",
    "load_dotenv(\"/Users/koundinya/Documents/prathyusha/projects/expense-management-assistant/env/.env\")\n",
    "import sys\n",
    "sys.path.append(\"/Users/koundinya/Documents/prathyusha/projects/expense-management-assistant\")\n",
    "from agent import *\n",
    "import json"
   ]
  },
  {
   "cell_type": "code",
   "execution_count": 2,
   "metadata": {},
   "outputs": [
    {
     "name": "stderr",
     "output_type": "stream",
     "text": [
      "/Users/koundinya/Documents/prathyusha/projects/expense-management-assistant/agent.py:10: LangChainDeprecationWarning: The class `ChatOpenAI` was deprecated in LangChain 0.0.10 and will be removed in 1.0. An updated version of the class exists in the :class:`~langchain-openai package and should be used instead. To use it run `pip install -U :class:`~langchain-openai` and import as `from :class:`~langchain_openai import ChatOpenAI``.\n",
      "  self.query_llm = ChatOpenAI(model=\"gpt-4o-mini-2024-07-18\")\n",
      "/Users/koundinya/Documents/prathyusha/projects/expense-management-assistant/agent.py:12: LangChainDeprecationWarning: LangChain agents will continue to be supported, but it is recommended for new use cases to be built with LangGraph. LangGraph offers a more flexible and full-featured framework for building agents, including support for tool-calling, persistence of state, and human-in-the-loop workflows. See LangGraph documentation for more details: https://langchain-ai.github.io/langgraph/. Refer here for its pre-built ReAct agent: https://langchain-ai.github.io/langgraph/how-tos/create-react-agent/\n",
      "  self.agent = initialize_agent(\n"
     ]
    }
   ],
   "source": [
    "image_path = \"/Users/koundinya/Documents/prathyusha/projects/bills/electricity_bill.jpg\"\n",
    "agent = ExpenseAgent()"
   ]
  },
  {
   "cell_type": "code",
   "execution_count": 3,
   "metadata": {},
   "outputs": [
    {
     "name": "stdout",
     "output_type": "stream",
     "text": [
      "Raw Expenses: ParsedChatCompletion[ExpenseReport](id='chatcmpl-AgJMmkexDnEs5bMJU6kVv7OoL9UFl', choices=[ParsedChoice[ExpenseReport](finish_reason='stop', index=0, logprobs=None, message=ParsedChatCompletionMessage[ExpenseReport](content='{\"expenses\":[{\"expense_id\":1,\"date\":\"2009-06-26\",\"description\":\"Electricity Bill\",\"amount\":6440.00}],\"total_spent\":6440.00}', refusal=None, role='assistant', audio=None, function_call=None, tool_calls=[], parsed=ExpenseReport(expenses=[Expense(expense_id=1, date='2009-06-26', description='Electricity Bill', amount=6440.0)], total_spent=6440.0)))], created=1734647584, model='gpt-4o-mini-2024-07-18', object='chat.completion', service_tier=None, system_fingerprint='fp_39a40c96a0', usage=CompletionUsage(completion_tokens=41, prompt_tokens=14375, total_tokens=14416, completion_tokens_details=CompletionTokensDetails(accepted_prediction_tokens=0, audio_tokens=0, reasoning_tokens=0, rejected_prediction_tokens=0), prompt_tokens_details=PromptTokensDetails(audio_tokens=0, cached_tokens=0)))\n"
     ]
    }
   ],
   "source": [
    "raw_expenses = agent.scan_bill(image_path)\n",
    "print(\"Raw Expenses:\", raw_expenses)"
   ]
  },
  {
   "cell_type": "code",
   "execution_count": 4,
   "metadata": {},
   "outputs": [],
   "source": [
    "expense_report = json.loads(raw_expenses.choices[0].message.parsed.model_dump_json())"
   ]
  },
  {
   "cell_type": "code",
   "execution_count": 5,
   "metadata": {},
   "outputs": [
    {
     "data": {
      "text/plain": [
       "ExpenseReport(expenses=[Expense(expense_id=1, date='2009-06-26', description='Electricity Bill', amount=6440.0)], total_spent=6440.0)"
      ]
     },
     "execution_count": 5,
     "metadata": {},
     "output_type": "execute_result"
    }
   ],
   "source": [
    "expense_report = raw_expenses.choices[0].message.parsed\n",
    "expense_report\n"
   ]
  },
  {
   "cell_type": "code",
   "execution_count": 6,
   "metadata": {},
   "outputs": [],
   "source": [
    "categorized_expense_report = agent.categorize_expenses(expense_report)\n",
    "categorized_expense_report = categorized_expense_report.choices[0].message.parsed"
   ]
  },
  {
   "cell_type": "code",
   "execution_count": 7,
   "metadata": {},
   "outputs": [
    {
     "data": {
      "text/plain": [
       "CategorizedExpenseReport(categorized_expenses=[CategorizedExpense(expense_id=1, description='Electricity Bill', category='Utilities', amount=6440.0, date='2009-06-26')])"
      ]
     },
     "execution_count": 7,
     "metadata": {},
     "output_type": "execute_result"
    }
   ],
   "source": [
    "categorized_expense_report"
   ]
  },
  {
   "cell_type": "code",
   "execution_count": 8,
   "metadata": {},
   "outputs": [],
   "source": [
    "category_expense_report = agent.calculate_expenses(categorized_expense_report)"
   ]
  },
  {
   "cell_type": "code",
   "execution_count": 9,
   "metadata": {},
   "outputs": [
    {
     "data": {
      "text/plain": [
       "{'Utilities': 6440.0}"
      ]
     },
     "execution_count": 9,
     "metadata": {},
     "output_type": "execute_result"
    }
   ],
   "source": [
    "category_expense_report"
   ]
  },
  {
   "cell_type": "code",
   "execution_count": 10,
   "metadata": {},
   "outputs": [
    {
     "data": {
      "text/plain": [
       "ExpenseReport(expenses=[Expense(expense_id=1, date='2009-06-26', description='Electricity Bill', amount=6440.0)], total_spent=6440.0)"
      ]
     },
     "execution_count": 10,
     "metadata": {},
     "output_type": "execute_result"
    }
   ],
   "source": [
    "expense_report"
   ]
  },
  {
   "cell_type": "code",
   "execution_count": 11,
   "metadata": {},
   "outputs": [],
   "source": [
    "expense_report2 = expense_report.model_copy()"
   ]
  },
  {
   "cell_type": "code",
   "execution_count": 12,
   "metadata": {},
   "outputs": [],
   "source": [
    "merged_expenses = expense_report.expenses + expense_report2.expenses\n",
    "\n",
    "total_spent = expense_report.total_spent + expense_report2.total_spent\n",
    "new_er = ExpenseReport(expenses=merged_expenses, total_spent=total_spent)"
   ]
  },
  {
   "cell_type": "code",
   "execution_count": 13,
   "metadata": {},
   "outputs": [
    {
     "data": {
      "text/plain": [
       "ExpenseReport(expenses=[Expense(expense_id=1, date='2009-06-26', description='Electricity Bill', amount=6440.0), Expense(expense_id=1, date='2009-06-26', description='Electricity Bill', amount=6440.0)], total_spent=12880.0)"
      ]
     },
     "execution_count": 13,
     "metadata": {},
     "output_type": "execute_result"
    }
   ],
   "source": [
    "new_er"
   ]
  },
  {
   "cell_type": "code",
   "execution_count": 14,
   "metadata": {},
   "outputs": [],
   "source": [
    "categorized_expense_report2 = agent.categorize_expenses(new_er)\n",
    "categorized_expense_report2 = categorized_expense_report2.choices[0].message.parsed"
   ]
  },
  {
   "cell_type": "code",
   "execution_count": 15,
   "metadata": {},
   "outputs": [
    {
     "data": {
      "text/plain": [
       "CategorizedExpenseReport(categorized_expenses=[CategorizedExpense(expense_id=1, description='Electricity Bill', category='Utilities', amount=6440.0, date='2009-06-26'), CategorizedExpense(expense_id=1, description='Electricity Bill', category='Utilities', amount=6440.0, date='2009-06-26')])"
      ]
     },
     "execution_count": 15,
     "metadata": {},
     "output_type": "execute_result"
    }
   ],
   "source": [
    "categorized_expense_report2"
   ]
  },
  {
   "cell_type": "code",
   "execution_count": 16,
   "metadata": {},
   "outputs": [],
   "source": [
    "category_expense_report = agent.calculate_expenses(categorized_expense_report2)"
   ]
  },
  {
   "cell_type": "code",
   "execution_count": 17,
   "metadata": {},
   "outputs": [
    {
     "data": {
      "text/plain": [
       "{'Utilities': 12880.0}"
      ]
     },
     "execution_count": 17,
     "metadata": {},
     "output_type": "execute_result"
    }
   ],
   "source": [
    "category_expense_report"
   ]
  },
  {
   "cell_type": "code",
   "execution_count": 18,
   "metadata": {},
   "outputs": [
    {
     "name": "stdout",
     "output_type": "stream",
     "text": [
      "\n",
      "\n",
      "\u001b[1m> Entering new AgentExecutor chain...\u001b[0m\n",
      "\u001b[32;1m\u001b[1;3mTo answer the query about the total spent on Utilities, I need to extract the relevant information from the provided context. \n",
      "\n",
      "Action: None\n",
      "Action Input: None\u001b[0m\n",
      "Observation: None is not a valid tool, try one of [categorize_expenses, calculate_category_expenses].\n",
      "Thought:\u001b[32;1m\u001b[1;3mTo find the total spent on Utilities, I will directly use the data provided in the context.\n",
      "\n",
      "Action: None\n",
      "Action Input: None\u001b[0m\n",
      "Observation: None is not a valid tool, try one of [categorize_expenses, calculate_category_expenses].\n",
      "Thought:\u001b[32;1m\u001b[1;3mI have the information regarding the expenses on Utilities directly from the context provided. \n",
      "\n",
      "Action: None\n",
      "Action Input: None\u001b[0m\n",
      "Observation: None is not a valid tool, try one of [categorize_expenses, calculate_category_expenses].\n",
      "Thought:\u001b[32;1m\u001b[1;3mI have the total expenses for Utilities directly in the context. The total spent on Utilities is provided as 12880.0.\n",
      "\n",
      "Final Answer: 12880.0\u001b[0m\n",
      "\n",
      "\u001b[1m> Finished chain.\u001b[0m\n"
     ]
    }
   ],
   "source": [
    "query = \"What is the total spent on Utilities?\"\n",
    "context = {\"expenses\": category_expense_report}\n",
    "response = agent.answer_query(query, context)"
   ]
  },
  {
   "cell_type": "code",
   "execution_count": 24,
   "metadata": {},
   "outputs": [
    {
     "data": {
      "text/plain": [
       "'12880.0'"
      ]
     },
     "execution_count": 24,
     "metadata": {},
     "output_type": "execute_result"
    }
   ],
   "source": [
    "response['output']"
   ]
  },
  {
   "cell_type": "code",
   "execution_count": null,
   "metadata": {},
   "outputs": [],
   "source": []
  }
 ],
 "metadata": {
  "kernelspec": {
   "display_name": "together_env",
   "language": "python",
   "name": "python3"
  },
  "language_info": {
   "codemirror_mode": {
    "name": "ipython",
    "version": 3
   },
   "file_extension": ".py",
   "mimetype": "text/x-python",
   "name": "python",
   "nbconvert_exporter": "python",
   "pygments_lexer": "ipython3",
   "version": "3.13.0"
  }
 },
 "nbformat": 4,
 "nbformat_minor": 2
}
